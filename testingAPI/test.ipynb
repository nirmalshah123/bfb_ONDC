{
 "cells": [
  {
   "cell_type": "markdown",
   "metadata": {},
   "source": [
    "# Importing Necessary Files"
   ]
  },
  {
   "cell_type": "code",
   "execution_count": 9,
   "metadata": {},
   "outputs": [],
   "source": [
    "import requests\n",
    "from multiprocessing import Process"
   ]
  },
  {
   "cell_type": "markdown",
   "metadata": {},
   "source": [
    "# Helper Functions"
   ]
  },
  {
   "cell_type": "code",
   "execution_count": null,
   "metadata": {},
   "outputs": [],
   "source": [
    "def insert_merchant(pinCode,merchID):\n",
    "    url = 'http://0.0.0.0:5000/insertMerchant'\n",
    "    headers = {\n",
    "        'accept': 'application/json',\n",
    "        'Content-Type': 'application/x-www-form-urlencoded'\n",
    "    }\n",
    "    data = {\n",
    "        'pinCode': pinCode,\n",
    "        'merchID': merchID\n",
    "    }\n",
    "\n",
    "    response = requests.post(url, headers=headers, data=data)\n",
    "    print(\"Insert Merchant Response:\", response.text)\n",
    "\n",
    "def get_merchants(pinCode):\n",
    "    url = 'http://0.0.0.0:5000/getMerchants'\n",
    "    headers = {\n",
    "        'accept': 'application/json',\n",
    "        'Content-Type': 'application/x-www-form-urlencoded'\n",
    "    }\n",
    "    data = {\n",
    "        'pinCode': pinCode\n",
    "    }\n",
    "\n",
    "    response = requests.post(url, headers=headers, data=data)\n",
    "    print(\"Get Merchants Response:\", response.text)\n",
    "def del_DB():\n",
    "    url = 'http://0.0.0.0:5000/delDB'\n",
    "    response = requests.post(url)\n"
   ]
  },
  {
   "cell_type": "markdown",
   "metadata": {},
   "source": [
    "# Deleting Database"
   ]
  },
  {
   "cell_type": "code",
   "execution_count": 16,
   "metadata": {},
   "outputs": [],
   "source": [
    "del_DB()"
   ]
  },
  {
   "cell_type": "markdown",
   "metadata": {},
   "source": [
    "# Utilizing Multiprocesses to execute parallel requests"
   ]
  },
  {
   "cell_type": "code",
   "execution_count": 5,
   "metadata": {},
   "outputs": [
    {
     "name": "stdout",
     "output_type": "stream",
     "text": [
      "Insert Merchant Response: {\"result\":\"successfully inserted\"}\n",
      "Get Merchants Response: {\"1\":[\"1\"]}\n"
     ]
    }
   ],
   "source": [
    "p1 = Process(target=insert_merchant(1,1))\n",
    "p1.start()\n",
    "p2 = Process(target=get_merchants(1))\n",
    "p2.start()\n",
    "p1.join()\n",
    "p2.join()"
   ]
  },
  {
   "cell_type": "markdown",
   "metadata": {},
   "source": [
    "# Helper Function to run parallel"
   ]
  },
  {
   "cell_type": "code",
   "execution_count": 18,
   "metadata": {},
   "outputs": [],
   "source": [
    "def runInParallel(*fns):\n",
    "  proc = []\n",
    "  for fn in fns:\n",
    "    p = Process(target=fn)\n",
    "    p.start()\n",
    "    proc.append(p)\n",
    "  for p in proc:\n",
    "    p.join()"
   ]
  },
  {
   "cell_type": "markdown",
   "metadata": {},
   "source": [
    "# Executing Multiple Parallel Requests"
   ]
  },
  {
   "cell_type": "code",
   "execution_count": 15,
   "metadata": {},
   "outputs": [
    {
     "name": "stdout",
     "output_type": "stream",
     "text": [
      "Insert Merchant Response: {\"result\":\"successfully inserted\"}\n",
      "Get Merchants Response: {\"1\":[\"1\"]}\n"
     ]
    }
   ],
   "source": [
    "fns = [insert_merchant(1,1),get_merchants(1)]"
   ]
  },
  {
   "cell_type": "code",
   "execution_count": 25,
   "metadata": {},
   "outputs": [
    {
     "name": "stdout",
     "output_type": "stream",
     "text": [
      "Insert Merchant Response: {\"result\":\"successfully inserted\"}\n",
      "Get Merchants Response: {\"1\":[\"1\",\"2\"]}\n",
      "Insert Merchant Response: {\"result\":\"successfully inserted\"}\n",
      "Get Merchants Response: {\"1\":[\"1\",\"2\"]}\n",
      "Insert Merchant Response: {\"result\":\"successfully inserted\"}\n",
      "Get Merchants Response: {\"2\":[\"1\"]}\n"
     ]
    }
   ],
   "source": [
    "runInParallel(insert_merchant(1,1),get_merchants(1),insert_merchant(1,2),get_merchants(1),insert_merchant(2,1),get_merchants(2))"
   ]
  },
  {
   "cell_type": "code",
   "execution_count": 23,
   "metadata": {},
   "outputs": [
    {
     "name": "stdout",
     "output_type": "stream",
     "text": [
      "Insert Merchant Response: {\"result\":\"successfully inserted\"}\n"
     ]
    }
   ],
   "source": [
    "insert_merchant(1,1)"
   ]
  },
  {
   "cell_type": "code",
   "execution_count": 24,
   "metadata": {},
   "outputs": [
    {
     "name": "stdout",
     "output_type": "stream",
     "text": [
      "Get Merchants Response: {\"1\":[\"1\",\"2\"]}\n"
     ]
    }
   ],
   "source": [
    "get_merchants(1)"
   ]
  },
  {
   "cell_type": "code",
   "execution_count": null,
   "metadata": {},
   "outputs": [],
   "source": []
  },
  {
   "cell_type": "code",
   "execution_count": null,
   "metadata": {},
   "outputs": [],
   "source": []
  },
  {
   "cell_type": "code",
   "execution_count": null,
   "metadata": {},
   "outputs": [],
   "source": []
  }
 ],
 "metadata": {
  "kernelspec": {
   "display_name": "base",
   "language": "python",
   "name": "python3"
  },
  "language_info": {
   "codemirror_mode": {
    "name": "ipython",
    "version": 3
   },
   "file_extension": ".py",
   "mimetype": "text/x-python",
   "name": "python",
   "nbconvert_exporter": "python",
   "pygments_lexer": "ipython3",
   "version": "3.11.5"
  }
 },
 "nbformat": 4,
 "nbformat_minor": 2
}
